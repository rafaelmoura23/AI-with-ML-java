{
 "cells": [
  {
   "cell_type": "markdown",
   "metadata": {},
   "source": [
    "# Previsão de Preços de Casas 🏠💰"
   ]
  },
  {
   "cell_type": "code",
   "execution_count": null,
   "metadata": {},
   "outputs": [],
   "source": [
    "from sklearn.datasets import fetch_openml\n",
    "from ydata_profiling import ProfileReport\n",
    "\n",
    "\n",
    "# Baixando o dataset de preços de casas do OpenML\n",
    "housing = fetch_openml(name=\"house_prices\", as_frame=True)\n",
    "\n",
    "# Extraindo o DataFrame dos dados\n",
    "df = housing.frame\n",
    "\n",
    "# # Gerando o relatório de perfilamento\n",
    "# profile = ProfileReport(df, title=\"Pandas Profiling Report\")\n",
    "\n",
    "# # Ou você pode salvar em um arquivo HTML\n",
    "# profile.to_file(\"housing_profile_report.html\")"
   ]
  },
  {
   "cell_type": "markdown",
   "metadata": {},
   "source": [
    "## REGRESSÃO LINEAR"
   ]
  },
  {
   "cell_type": "code",
   "execution_count": 55,
   "metadata": {},
   "outputs": [],
   "source": [
    "# imports\n",
    "import pandas as pd\n",
    "import seaborn as sns\n",
    "import matplotlib.pyplot as plt\n",
    "from sklearn.datasets import fetch_openml\n",
    "from sklearn.model_selection import train_test_split\n",
    "from sklearn.linear_model import LinearRegression\n",
    "from sklearn.metrics import mean_squared_error, r2_score"
   ]
  },
  {
   "cell_type": "code",
   "execution_count": 56,
   "metadata": {},
   "outputs": [],
   "source": [
    "# Baixando o dataset de preços de casas do OpenML\n",
    "housing = fetch_openml(name=\"house_prices\", as_frame=True)\n",
    "\n",
    "# Extraindo o DataFrame dos dados\n",
    "df = housing.frame\n",
    "\n",
    "# Converter colunas categóricas em variáveis dummy\n",
    "df_encoded = pd.get_dummies(df, drop_first=True)"
   ]
  },
  {
   "cell_type": "code",
   "execution_count": 57,
   "metadata": {},
   "outputs": [],
   "source": [
    "# Calculando a correlação com a variável alvo (SalePrice)\n",
    "correlation = df_encoded.corr()['SalePrice'].sort_values(ascending=False)\n",
    "top_10_features = correlation.drop('SalePrice').head(10)"
   ]
  },
  {
   "cell_type": "code",
   "execution_count": null,
   "metadata": {},
   "outputs": [],
   "source": [
    "plt.figure(figsize=(10, 6))\n",
    "sns.barplot(x=top_10_features.values, y=top_10_features.index)\n",
    "plt.title(' Variáveis mais Correlacionadas com SalePrice')\n",
    "plt.xlabel('Correlação')\n",
    "plt.ylabel('Variáveis')\n",
    "plt.show()\n",
    "\n",
    "print(housing.DESCR)"
   ]
  },
  {
   "cell_type": "markdown",
   "metadata": {},
   "source": [
    "\n",
    "\n",
    "\n",
    "- **OverallQual**: Avalia o material e o acabamento geral da casa  \n",
    "  - 10: Muito Excelente  \n",
    "  - 9: Excelente  \n",
    "  - 8: Muito Bom  \n",
    "  - 7: Bom  \n",
    "  - 6: Acima da Média  \n",
    "  - 5: Média  \n",
    "  - 4: Abaixo da Média  \n",
    "  - 3: Regular  \n",
    "  - 2: Ruim  \n",
    "  - 1: Muito Ruim  \n",
    "\n",
    "- **GrLivArea**: Área de estar acima do solo (em pés quadrados)  \n",
    "\n",
    "- **GarageCars**: Tamanho da garagem em capacidade de carros  \n",
    "\n",
    "- **GarageArea**: Tamanho da garagem em pés quadrados  \n",
    "\n",
    "- **TotalBsmtSF**: Área total do porão em pés quadrados  \n",
    "\n",
    "- **1stFlrSF**: Área do primeiro andar em pés quadrados  \n",
    "\n",
    "- **FullBath**: Banheiros completos acima do solo  \n",
    "\n",
    "- **TotRmsAbvGrd**: Total de quartos acima do solo (não inclui banheiros)  \n",
    "\n",
    "- **YearBuilt**: Data original de construção  \n",
    "\n",
    "- **YearRemodAdd**: Data de remodelação (igual à data de construção se não houve remodelação ou adições)\n"
   ]
  },
  {
   "cell_type": "code",
   "execution_count": null,
   "metadata": {},
   "outputs": [],
   "source": [
    "# Extraindo os dados e o alvo\n",
    "data = housing.data\n",
    "target = housing.target\n",
    "\n",
    "# Combinando os dados e o alvo em um único DataFrame\n",
    "df = pd.concat([data, target], axis=1)\n",
    "\n",
    "# Atualizando o DataFrame X com as variáveis selecionadas\n",
    "X = df_encoded[top_10_features]\n",
    "y = df_encoded['SalePrice']\n"
   ]
  },
  {
   "cell_type": "code",
   "execution_count": null,
   "metadata": {},
   "outputs": [],
   "source": [
    "# Dividindo os dados em treino e teste\n",
    "X_train, X_test, y_train, y_test = train_test_split(X, y, test_size=0.2, random_state=42)\n",
    "\n",
    "# Instanciando o modelo\n",
    "modelo = LinearRegression()\n",
    "\n",
    "# Treinando o modelo\n",
    "modelo.fit(X_train, y_train)"
   ]
  },
  {
   "cell_type": "code",
   "execution_count": 59,
   "metadata": {},
   "outputs": [
    {
     "name": "stdout",
     "output_type": "stream",
     "text": [
      "Erro Quadrático Médio: 1440923076.81\n",
      "R²: 0.81\n",
      "Raiz do Erro Quadrático Médio (RMSE): 37959.49\n",
      "      Valor Real   Previsão\n",
      "892       154500 154,000.00\n",
      "1105      325000 340,000.00\n",
      "413       115000 128,000.00\n",
      "522       159000 172,500.00\n",
      "1036      315500 377,500.00\n",
      "614        75500  81,000.00\n",
      "218       311500 205,000.00\n",
      "1160      146000 148,500.00\n",
      "649        84500  81,000.00\n",
      "887       135500 152,000.00\n"
     ]
    },
    {
     "name": "stderr",
     "output_type": "stream",
     "text": [
      "c:\\Users\\Rafael S Moura\\AppData\\Local\\Programs\\Python\\Python312\\Lib\\site-packages\\sklearn\\metrics\\_regression.py:492: FutureWarning: 'squared' is deprecated in version 1.4 and will be removed in 1.6. To calculate the root mean squared error, use the function'root_mean_squared_error'.\n",
      "  warnings.warn(\n"
     ]
    }
   ],
   "source": [
    "# Fazendo previsões no conjunto de teste\n",
    "y_pred = modelo.predict(X_test)\n",
    "\n",
    "# Avaliando o modelo\n",
    "mse = mean_squared_error(y_test, y_pred)\n",
    "rmse = mean_squared_error(y_test, y_pred, squared=False)\n",
    "r2 = r2_score(y_test, y_pred)\n",
    "\n",
    "print(f\"Erro Quadrático Médio: {mse:.2f}\")\n",
    "print(f\"R²: {r2:.2f}\")\n",
    "print(f\"Raiz do Erro Quadrático Médio (RMSE): {rmse:.2f}\")\n",
    "\n",
    "# Criando um DataFrame para comparar valores reais e previstos\n",
    "resultado = pd.DataFrame({'Valor Real': y_test, 'Previsão': y_pred})\n",
    "\n",
    "# Exibindo as 10 primeiras comparações\n",
    "print(resultado.head(10))"
   ]
  },
  {
   "cell_type": "markdown",
   "metadata": {},
   "source": [
    "#### Coeficiente de Determinação (R²)\n",
    "\n",
    "- **Valor:** 0,80\n",
    "\n",
    "Um R² de 0,80 significa que 80% da variabilidade nos dados de `SalePrice` é explicada pelo modelo. Isso é considerado um bom ajuste, pois o modelo consegue capturar a maior parte da variabilidade nos dados. \n",
    "\n",
    "  - **Próximo de 1:** Indica um ajuste muito bom.\n",
    "  - **Próximo de 0:** Indica que o modelo não está explicando bem os dados.\n",
    "\n",
    "#### Erro Quadrático Médio (MSE)\n",
    "\n",
    "- **Valor:** 1.558.239.575,15\n",
    "\n",
    "Um MSE de 1.558.239.575,15 é um valor absoluto grande, indicando que, em média, há uma grande diferença entre as previsões e os valores reais. Esse valor é útil para:\n"
   ]
  },
  {
   "cell_type": "markdown",
   "metadata": {},
   "source": [
    "## ÁRVORE DE DECISÃO"
   ]
  },
  {
   "cell_type": "code",
   "execution_count": null,
   "metadata": {},
   "outputs": [],
   "source": [
    "# Imports \n",
    "from sklearn.datasets import fetch_openml\n",
    "from sklearn.model_selection import train_test_split\n",
    "from sklearn.tree import DecisionTreeRegressor\n",
    "from sklearn.metrics import mean_squared_error, r2_score"
   ]
  },
  {
   "cell_type": "code",
   "execution_count": null,
   "metadata": {},
   "outputs": [],
   "source": [
    "# Baixando o dataset de preços de casas do OpenML\n",
    "housing = fetch_openml(name=\"house_prices\", as_frame=True)\n",
    "\n",
    "# Extraindo os dados e o alvo\n",
    "data = housing.data\n",
    "target = housing.target\n",
    "\n",
    "# Combinando os dados e o alvo em um único DataFrame\n",
    "df = pd.concat([data, target], axis=1)\n",
    "\n",
    "# Convertendo colunas categóricas em variáveis dummy\n",
    "df_encoded = pd.get_dummies(df, drop_first=True)\n",
    "\n",
    "# Calculando a correlação com a variável alvo (SalePrice)\n",
    "correlation = df_encoded.corr()['SalePrice'].sort_values(ascending=False)\n",
    "\n",
    "# Selecionando as principais features com base na correlação\n",
    "top_10_features = correlation.drop('SalePrice').head(10).index\n",
    "X = df_encoded[top_10_features]\n",
    "y = df_encoded['SalePrice']"
   ]
  },
  {
   "cell_type": "code",
   "execution_count": 61,
   "metadata": {},
   "outputs": [
    {
     "name": "stdout",
     "output_type": "stream",
     "text": [
      "Erro Quadrático Médio (MSE): 1440923076.81\n",
      "Coeficiente de Determinação (R²): 0.81\n"
     ]
    }
   ],
   "source": [
    "# Dividindo os dados em treino e teste\n",
    "X_train, X_test, y_train, y_test = train_test_split(X, y, test_size=0.2, random_state=42)\n",
    "\n",
    "# Instanciando e treinando o modelo de árvore de decisão\n",
    "modelo = DecisionTreeRegressor(random_state=42)\n",
    "modelo.fit(X_train, y_train)\n",
    "\n",
    "# Fazendo previsões no conjunto de teste\n",
    "y_pred = modelo.predict(X_test)\n",
    "\n",
    "# Avaliando o modelo\n",
    "mse = mean_squared_error(y_test, y_pred)\n",
    "r2 = r2_score(y_test, y_pred)\n",
    "\n",
    "print(f\"Erro Quadrático Médio (MSE): {mse:.2f}\")\n",
    "print(f\"Coeficiente de Determinação (R²): {r2:.2f}\")"
   ]
  },
  {
   "cell_type": "code",
   "execution_count": 62,
   "metadata": {},
   "outputs": [
    {
     "name": "stdout",
     "output_type": "stream",
     "text": [
      "      Valor Real   Previsão\n",
      "892       154500 154,000.00\n",
      "1105      325000 340,000.00\n",
      "413       115000 128,000.00\n",
      "522       159000 172,500.00\n",
      "1036      315500 377,500.00\n",
      "614        75500  81,000.00\n",
      "218       311500 205,000.00\n",
      "1160      146000 148,500.00\n",
      "649        84500  81,000.00\n",
      "887       135500 152,000.00\n"
     ]
    },
    {
     "data": {
      "image/png": "[encoded data removed]",
      "text/plain": [
       "<Figure size 1000x600 with 1 Axes>"
      ]
     },
     "metadata": {},
     "output_type": "display_data"
    }
   ],
   "source": [
    "# Criando um DataFrame para comparar valores reais e previstos\n",
    "resultado = pd.DataFrame({'Valor Real': y_test, 'Previsão': y_pred})\n",
    "\n",
    "# Exibindo as 10 primeiras comparações\n",
    "print(resultado.head(10))\n",
    "\n",
    "# Criando um DataFrame para comparar valores reais e previstos\n",
    "resultado = pd.DataFrame({'Valor Real': y_test, 'Previsão': y_pred})\n",
    "\n",
    "# Criando o gráfico de dispersão\n",
    "plt.figure(figsize=(10, 6))\n",
    "sns.scatterplot(x='Valor Real', y='Previsão', data=resultado, alpha=0.6)\n",
    "plt.plot([resultado['Valor Real'].min(), resultado['Valor Real'].max()],\n",
    "         [resultado['Valor Real'].min(), resultado['Valor Real'].max()],\n",
    "         color='red', linestyle='--', linewidth=2)\n",
    "plt.xlabel('Valor Real')\n",
    "plt.ylabel('Previsão')\n",
    "plt.title('Comparação entre Valores Reais e Previsões')\n",
    "plt.grid(True)\n",
    "plt.show()"
   ]
  },
  {
   "cell_type": "code",
   "execution_count": 63,
   "metadata": {},
   "outputs": [
    {
     "name": "stdout",
     "output_type": "stream",
     "text": [
      "Id                  219\n",
      "MSSubClass           50\n",
      "MSZoning             RL\n",
      "LotFrontage         NaN\n",
      "LotArea           15660\n",
      "                  ...  \n",
      "MoSold                5\n",
      "YrSold             2008\n",
      "SaleType             WD\n",
      "SaleCondition    Normal\n",
      "SalePrice        311500\n",
      "Name: 218, Length: 81, dtype: object\n"
     ]
    }
   ],
   "source": [
    "linha_tal = df.loc[218]\n",
    "print(linha_tal)\n"
   ]
  }
 ],
 "metadata": {
  "kernelspec": {
   "display_name": "Python 3",
   "language": "python",
   "name": "python3"
  },
  "language_info": {
   "codemirror_mode": {
    "name": "ipython",
    "version": 3
   },
   "file_extension": ".py",
   "mimetype": "text/x-python",
   "name": "python",
   "nbconvert_exporter": "python",
   "pygments_lexer": "ipython3",
   "version": "3.12.4"
  }
 },
 "nbformat": 4,
 "nbformat_minor": 2
}
