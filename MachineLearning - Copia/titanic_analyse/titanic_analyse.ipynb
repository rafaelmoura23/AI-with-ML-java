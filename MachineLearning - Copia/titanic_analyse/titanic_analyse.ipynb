{
  "nbformat": 4,
  "nbformat_minor": 0,
  "metadata": {
    "colab": {
      "provenance": [],
      "collapsed_sections": [
        "rAcgQMyl9VkK",
        "BF6cF2VI9a8C"
      ]
    },
    "kernelspec": {
      "name": "python3",
      "display_name": "Python 3"
    },
    "language_info": {
      "name": "python"
    }
  },
  "cells": [
    {
      "cell_type": "markdown",
      "source": [
        "DataBase = https://www.kaggle.com/competitions/titanic/data\n",
        "\n",
        "Aula = https://www.youtube.com/watch?v=lO8vUrFjCaA\n",
        "\n"
      ],
      "metadata": {
        "id": "j84CHzgM6RJ0"
      }
    },
    {
      "cell_type": "code",
      "execution_count": null,
      "metadata": {
        "id": "3Dw34Zx753Rk"
      },
      "outputs": [],
      "source": [
        "# !pip install ydata-profiling"
      ]
    },
    {
      "cell_type": "code",
      "source": [
        "import pandas as pd"
      ],
      "metadata": {
        "id": "6APkVB5j6bSi"
      },
      "execution_count": null,
      "outputs": []
    },
    {
      "cell_type": "markdown",
      "source": [
        "# Analisando a Base de Treino"
      ],
      "metadata": {
        "id": "rAcgQMyl9VkK"
      }
    },
    {
      "cell_type": "code",
      "source": [
        "# Visualizando a base de treino\n",
        "treino = pd.read_csv(\"train.csv\")\n",
        "treino.head()"
      ],
      "metadata": {
        "id": "SqPYa1dp6ewq"
      },
      "execution_count": null,
      "outputs": []
    },
    {
      "cell_type": "code",
      "source": [
        "# Importando o ProfileReport do ydata-profiling\n",
        "from ydata_profiling import ProfileReport"
      ],
      "metadata": {
        "id": "oa3Jf-406vcy"
      },
      "execution_count": null,
      "outputs": []
    },
    {
      "cell_type": "code",
      "source": [
        "# Gerando a visualização\n",
        "profile = ProfileReport(treino, title=\"titanic_treino\")"
      ],
      "metadata": {
        "id": "biZy5nfc69RA"
      },
      "execution_count": null,
      "outputs": []
    },
    {
      "cell_type": "code",
      "source": [
        "# Criando o relatório em html\n",
        "profile.to_file(\"titanic_treino.html\")\n",
        "# AMAZING!!!"
      ],
      "metadata": {
        "id": "SM2Bqz7Q7GwR"
      },
      "execution_count": null,
      "outputs": []
    },
    {
      "cell_type": "code",
      "source": [
        "# Verificando as informações da base de dados\n",
        "treino.info()"
      ],
      "metadata": {
        "id": "Aq5fSNgK8kuw"
      },
      "execution_count": null,
      "outputs": []
    },
    {
      "cell_type": "code",
      "source": [
        "# Verificando o tipo dos dados\n",
        "treino.dtypes.value_counts()"
      ],
      "metadata": {
        "id": "rXG5gvGc8zlg"
      },
      "execution_count": null,
      "outputs": []
    },
    {
      "cell_type": "code",
      "source": [
        "# Visualizando os valore Nulos\n",
        "treino.isnull().sum().sort_values(ascending=False).head()"
      ],
      "metadata": {
        "id": "hazg6TsQ86CA"
      },
      "execution_count": null,
      "outputs": []
    },
    {
      "cell_type": "code",
      "source": [],
      "metadata": {
        "id": "Qf9ef5A89LRv"
      },
      "execution_count": null,
      "outputs": []
    },
    {
      "cell_type": "markdown",
      "source": [
        "# Analisando a Base de Teste"
      ],
      "metadata": {
        "id": "BF6cF2VI9a8C"
      }
    },
    {
      "cell_type": "code",
      "source": [
        "# Visualizando a base de teste\n",
        "teste = pd.read_csv(\"test.csv\")\n",
        "teste.head()"
      ],
      "metadata": {
        "id": "-R3-O6-B9e1Y"
      },
      "execution_count": null,
      "outputs": []
    },
    {
      "cell_type": "code",
      "source": [
        "teste.info()"
      ],
      "metadata": {
        "id": "RNZr_tNM9yYn"
      },
      "execution_count": null,
      "outputs": []
    },
    {
      "cell_type": "code",
      "source": [
        "# Visualizando os valore Nulos\n",
        "teste.isnull().sum().sort_values(ascending=False).head()"
      ],
      "metadata": {
        "id": "66-Nlvj193qv"
      },
      "execution_count": null,
      "outputs": []
    },
    {
      "cell_type": "markdown",
      "source": [
        "Existem colunas que possuem valores vazios na base de teste que não estão vazias na base de treino"
      ],
      "metadata": {
        "id": "yDUR2H0G-UX_"
      }
    },
    {
      "cell_type": "markdown",
      "source": [
        "# Realizando o tratamento inicial dos dados"
      ],
      "metadata": {
        "id": "XfzymUW7-hUy"
      }
    },
    {
      "cell_type": "code",
      "source": [
        "9:00 min"
      ],
      "metadata": {
        "id": "Z8B_kA6r_CkI"
      },
      "execution_count": null,
      "outputs": []
    }
  ]
}