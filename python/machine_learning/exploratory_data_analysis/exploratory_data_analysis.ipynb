{
  "nbformat": 4,
  "nbformat_minor": 0,
  "metadata": {
    "colab": {
      "provenance": []
    },
    "kernelspec": {
      "name": "python3",
      "display_name": "Python 3"
    },
    "language_info": {
      "name": "python"
    }
  },
  "cells": [
    {
      "cell_type": "markdown",
      "source": [
        "DataBase = https://www.kaggle.com/datasets/prasertk/netflix-daily-top-10-in-us?resource=download\n",
        "\n",
        "Aula = https://www.youtube.com/watch?v=4sxhE3wP3Ug"
      ],
      "metadata": {
        "id": "VW4yzZFEgNG4"
      }
    },
    {
      "cell_type": "code",
      "execution_count": 1,
      "metadata": {
        "id": "FkXRRmyzfSZO"
      },
      "outputs": [],
      "source": [
        "import pandas as pd\n",
        "import datetime as dt"
      ]
    },
    {
      "cell_type": "code",
      "source": [
        "base = pd.read_csv(\"netflix daily top 10.csv\")"
      ],
      "metadata": {
        "id": "j-ZtDTSGgYG1"
      },
      "execution_count": 5,
      "outputs": []
    },
    {
      "cell_type": "code",
      "source": [
        "# 5 primeiras linhas da base\n",
        "base.head()"
      ],
      "metadata": {
        "id": "KX6QhS1ogolu"
      },
      "execution_count": null,
      "outputs": []
    },
    {
      "cell_type": "code",
      "source": [
        "# 5 últimas linhas da base\n",
        "base.tail()"
      ],
      "metadata": {
        "id": "L3Gnxflagtm2"
      },
      "execution_count": null,
      "outputs": []
    },
    {
      "cell_type": "code",
      "source": [
        "# Tamanho da base\n",
        "base.shape"
      ],
      "metadata": {
        "id": "LtvY0P7GgvNm"
      },
      "execution_count": null,
      "outputs": []
    },
    {
      "cell_type": "code",
      "source": [
        "# Mostra as 5 primeiras e 5 últimas linhas e também o tamanho\n",
        "display(base)"
      ],
      "metadata": {
        "id": "DZb51UFWhe8l"
      },
      "execution_count": null,
      "outputs": []
    },
    {
      "cell_type": "code",
      "source": [
        "# Descobrindo o período da análise\n",
        "inicio = pd.to_datetime(base['As of']).dt.date.min()\n",
        "print(inicio)"
      ],
      "metadata": {
        "id": "R44OpqlUhxM1"
      },
      "execution_count": null,
      "outputs": []
    },
    {
      "cell_type": "code",
      "source": [
        "fim = pd.to_datetime(base['As of']).dt.date.max()\n",
        "print(fim)"
      ],
      "metadata": {
        "id": "-lcRA3QGiS5V"
      },
      "execution_count": null,
      "outputs": []
    },
    {
      "cell_type": "code",
      "source": [
        "# Informações sobre as colunas\n",
        "base.info()"
      ],
      "metadata": {
        "id": "Jyo8ANsHibXU"
      },
      "execution_count": null,
      "outputs": []
    },
    {
      "cell_type": "code",
      "source": [
        "# Tipo dos dados\n",
        "base.dtypes"
      ],
      "metadata": {
        "id": "1icnY0beiuBE"
      },
      "execution_count": null,
      "outputs": []
    },
    {
      "cell_type": "code",
      "source": [
        "# Verificando a existência de valores nulos\n",
        "base.isnull().sum()"
      ],
      "metadata": {
        "id": "G-MXqrobjAml"
      },
      "execution_count": null,
      "outputs": []
    },
    {
      "cell_type": "code",
      "source": [
        "# Entendendo os valores nulos\n",
        "# Apenas valores \"yes\"\n",
        "# Valores nulos = \"no\"\n",
        "base['Netflix Exclusive'].value_counts()"
      ],
      "metadata": {
        "id": "WFUmTt1UjQtk"
      },
      "execution_count": null,
      "outputs": []
    },
    {
      "cell_type": "code",
      "source": [
        "# Analisando as informações estatísticas\n",
        "base.describe()"
      ],
      "metadata": {
        "id": "TyPyL3JljnBF"
      },
      "execution_count": null,
      "outputs": []
    },
    {
      "cell_type": "code",
      "source": [
        "base.plot(kind='box',figsize=(10,6),subplots=True)\n",
        "# Dados da coluna 'days in Top 10' maiores que o valor máximo (outliers)"
      ],
      "metadata": {
        "id": "Wzz3XnqFkNRM"
      },
      "execution_count": null,
      "outputs": []
    },
    {
      "cell_type": "code",
      "source": [
        "# Filtrando os filmes no top 10 a mais de 100 dias\n",
        "base[base['Days In Top 10'] >= 100]"
      ],
      "metadata": {
        "id": "Hl2qLaPykU_z"
      },
      "execution_count": null,
      "outputs": []
    },
    {
      "cell_type": "code",
      "source": [
        "# Aplicando o filtro na coluna 'Days in Top 10' e tranformando em uma planilha\n",
        "base_excel = base[base['Days In Top 10'] >= 100]\n",
        "base_excel.to_excel('Verificar.xlsx')"
      ],
      "metadata": {
        "id": "dpxxjB2zk0-r"
      },
      "execution_count": 28,
      "outputs": []
    },
    {
      "cell_type": "code",
      "source": [
        "# Contando quantas vezes cada filme aparece na base de dados\n",
        "base.Title.value_counts()\n",
        "# COCOMELON TÁ VOANDOOOO!!!"
      ],
      "metadata": {
        "id": "WjZ2dm0UnKgr"
      },
      "execution_count": null,
      "outputs": []
    },
    {
      "cell_type": "code",
      "source": [
        "# Tipos de filmes\n",
        "base.Type.value_counts().plot(kind='bar')\n",
        "# TV Show = séries"
      ],
      "metadata": {
        "id": "w45hkI0-nQIR"
      },
      "execution_count": null,
      "outputs": []
    },
    {
      "cell_type": "code",
      "source": [
        "base['Viewership Score'].hist()"
      ],
      "metadata": {
        "id": "lV1SZiYsoMnw"
      },
      "execution_count": null,
      "outputs": []
    },
    {
      "cell_type": "code",
      "source": [
        "# Filme que mais ganhou pontos de audiência (Viewership Score)\n",
        "base[base['Viewership Score'] == base['Viewership Score'].max()]"
      ],
      "metadata": {
        "id": "JTRCwU-OofQB"
      },
      "execution_count": null,
      "outputs": []
    }
  ]
}